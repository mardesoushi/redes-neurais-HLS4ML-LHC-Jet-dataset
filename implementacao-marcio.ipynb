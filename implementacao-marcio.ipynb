{
 "cells": [
  {
   "cell_type": "markdown",
   "metadata": {},
   "source": [
    "## Arquivo: tratamento_dados_img.py"
   ]
  },
  {
   "cell_type": "code",
   "execution_count": 1,
   "metadata": {},
   "outputs": [],
   "source": [
    "import h5py\n",
    "import numpy as np\n",
    "import pandas as pd\n",
    "import os\n",
    "from tqdm import tqdm\n",
    "import torch\n",
    "import util\n",
    "\n"
   ]
  },
  {
   "cell_type": "code",
   "execution_count": 2,
   "metadata": {},
   "outputs": [],
   "source": [
    "def loadfiles_np(listOfFiles, maxFiles=-1):\n",
    "    listofDf = []\n",
    "    for _, ifile in tqdm(enumerate(listOfFiles[:maxFiles]), total=maxFiles):\n",
    "        with h5py.File(ifile, \"r\") as f:\n",
    "            tmpDf = np.array(f.get(\"jetImageHCAL\"))\n",
    "            listofDf.append(tmpDf)\n",
    "            print('carregado', ifile)\n",
    "    return np.stack(listofDf)\n",
    "\n",
    "def salvar_numpy_array(dados, caminho):\n",
    "    with open(caminho, 'wb') as f:\n",
    "        np.save(f, dados)\n",
    "\n",
    "def juntar_dados_imagem_alvo(path_imagens, target_csv, caminho_saida, maxFiles=-1):\n",
    "    df_image = loadfiles_np(path_imagens, -1)\n",
    "    target_train = pd.read_csv(target_csv)\n",
    "\n",
    "    dfs_concatenados = []\n",
    "    TOTAL = df_image.shape[0]\n",
    "\n",
    "    for j in range(TOTAL):\n",
    "        resultados = []\n",
    "        LINHA = df_image[j].shape[0]\n",
    "\n",
    "        for i in range(LINHA):\n",
    "            resultados.append(df_image[j][i].astype('uint8').reshape(100, 100).flatten())\n",
    "\n",
    "        resultado = np.array(resultados)\n",
    "        treino = pd.DataFrame(resultado.reshape(LINHA,-1))\n",
    "\n",
    "        treino['Classe'] = target_train[\"j_w\"]\n",
    "        target_train[\"j_w\"] = target_train.iloc[LINHA:]\n",
    "        target_train = target_train.dropna().reset_index(drop=True)\n",
    "        dfs_concatenados.append(treino)\n",
    "\n",
    "    resultado_final = pd.concat(dfs_concatenados)\n",
    "    resultado_final.to_csv(caminho_saida)\n",
    "\n",
    "    isna = (resultado_final.isna().sum().sum()/10001)\n",
    "    print(\"Contagem de NaN em cada coluna:\")\n",
    "    print(isna)\n",
    "\n",
    "    return resultado_final\n",
    "\n",
    "\n",
    "def salvar_tensor_csv(csv_path, tensor_path, dtypes):\n",
    "    data = pd.read_csv(csv_path, dtype=dtypes)\n",
    "    tensor_data = torch.tensor(data.values, dtype=torch.float32)\n",
    "    torch.save(tensor_data, tensor_path)\n",
    "    print(f\"{csv_path} convertido para tensor e salvo em {tensor_path}\")\n",
    "\n",
    "\n",
    "\n"
   ]
  },
  {
   "cell_type": "code",
   "execution_count": 3,
   "metadata": {},
   "outputs": [],
   "source": [
    "def adicionando_lista(dirs, files):\n",
    "    diretorio = dirs + \"/\"\n",
    "    return [diretorio + file_name for file_name in files]\n",
    "\n",
    "def carregar_dados(path):\n",
    "    paths = []\n",
    "    cont = 0\n",
    "    for dirs, _, files in os.walk(path):\n",
    "        if cont == 1:\n",
    "            print(f'Adicionando os dados de {dirs[-4:]} na lista ')\n",
    "            paths.append(adicionando_lista(dirs, files))\n",
    "        if cont == 2:\n",
    "            print(f'Adicionando os dados de {dirs[-5:]} na lista ')\n",
    "            paths.append(adicionando_lista(dirs, files))\n",
    "        print(cont)\n",
    "        cont += 1\n",
    "    return paths\n",
    "\n",
    "def salvar_tensor_csv(data, tensor_path):\n",
    "    tensor_data = torch.tensor(data.values, dtype=torch.float32)\n",
    "    torch.save(tensor_data, tensor_path)\n",
    "    print(f\"Tensoe salvo em {tensor_path}\")"
   ]
  },
  {
   "cell_type": "code",
   "execution_count": 4,
   "metadata": {},
   "outputs": [
    {
     "name": "stdout",
     "output_type": "stream",
     "text": [
      "Adicionando os dados de rain na lista \n",
      "Adicionando os dados de train na lista \n"
     ]
    }
   ],
   "source": [
    "# Executando\n",
    "path_train, path_test = util.carregar_dados(\"data\")"
   ]
  },
  {
   "cell_type": "code",
   "execution_count": 5,
   "metadata": {},
   "outputs": [
    {
     "name": "stderr",
     "output_type": "stream",
     "text": [
      "1it [00:01,  1.50s/it]"
     ]
    },
    {
     "name": "stdout",
     "output_type": "stream",
     "text": [
      "carregado data/hls4ml_LHCjet_30p_train/train/jetImage_0_30p_0_10000.h5\n"
     ]
    },
    {
     "name": "stderr",
     "output_type": "stream",
     "text": [
      "2it [00:02,  1.43s/it]"
     ]
    },
    {
     "name": "stdout",
     "output_type": "stream",
     "text": [
      "carregado data/hls4ml_LHCjet_30p_train/train/jetImage_0_30p_10000_20000.h5\n"
     ]
    },
    {
     "name": "stderr",
     "output_type": "stream",
     "text": [
      "3it [00:04,  1.46s/it]"
     ]
    },
    {
     "name": "stdout",
     "output_type": "stream",
     "text": [
      "carregado data/hls4ml_LHCjet_30p_train/train/jetImage_0_30p_20000_30000.h5\n"
     ]
    },
    {
     "name": "stderr",
     "output_type": "stream",
     "text": [
      "4it [00:05,  1.36s/it]"
     ]
    },
    {
     "name": "stdout",
     "output_type": "stream",
     "text": [
      "carregado data/hls4ml_LHCjet_30p_train/train/jetImage_0_30p_30000_40000.h5\n"
     ]
    },
    {
     "name": "stderr",
     "output_type": "stream",
     "text": [
      "5it [00:06,  1.34s/it]"
     ]
    },
    {
     "name": "stdout",
     "output_type": "stream",
     "text": [
      "carregado data/hls4ml_LHCjet_30p_train/train/jetImage_0_30p_40000_50000.h5\n"
     ]
    },
    {
     "name": "stderr",
     "output_type": "stream",
     "text": [
      "6it [00:08,  1.36s/it]"
     ]
    },
    {
     "name": "stdout",
     "output_type": "stream",
     "text": [
      "carregado data/hls4ml_LHCjet_30p_train/train/jetImage_0_30p_50000_60000.h5\n"
     ]
    },
    {
     "name": "stderr",
     "output_type": "stream",
     "text": [
      "7it [00:09,  1.39s/it]"
     ]
    },
    {
     "name": "stdout",
     "output_type": "stream",
     "text": [
      "carregado data/hls4ml_LHCjet_30p_train/train/jetImage_0_30p_60000_70000.h5\n"
     ]
    },
    {
     "name": "stderr",
     "output_type": "stream",
     "text": [
      "8it [00:11,  1.40s/it]"
     ]
    },
    {
     "name": "stdout",
     "output_type": "stream",
     "text": [
      "carregado data/hls4ml_LHCjet_30p_train/train/jetImage_0_30p_70000_80000.h5\n"
     ]
    },
    {
     "name": "stderr",
     "output_type": "stream",
     "text": [
      "9it [00:12,  1.45s/it]"
     ]
    },
    {
     "name": "stdout",
     "output_type": "stream",
     "text": [
      "carregado data/hls4ml_LHCjet_30p_train/train/jetImage_0_30p_80000_90000.h5\n"
     ]
    },
    {
     "name": "stderr",
     "output_type": "stream",
     "text": [
      "10it [00:14,  1.41s/it]"
     ]
    },
    {
     "name": "stdout",
     "output_type": "stream",
     "text": [
      "carregado data/hls4ml_LHCjet_30p_train/train/jetImage_1_30p_0_10000.h5\n"
     ]
    },
    {
     "name": "stderr",
     "output_type": "stream",
     "text": [
      "11it [00:15,  1.43s/it]"
     ]
    },
    {
     "name": "stdout",
     "output_type": "stream",
     "text": [
      "carregado data/hls4ml_LHCjet_30p_train/train/jetImage_1_30p_10000_20000.h5\n"
     ]
    },
    {
     "name": "stderr",
     "output_type": "stream",
     "text": [
      "12it [00:16,  1.40s/it]"
     ]
    },
    {
     "name": "stdout",
     "output_type": "stream",
     "text": [
      "carregado data/hls4ml_LHCjet_30p_train/train/jetImage_1_30p_20000_30000.h5\n"
     ]
    },
    {
     "name": "stderr",
     "output_type": "stream",
     "text": [
      "13it [00:18,  1.43s/it]"
     ]
    },
    {
     "name": "stdout",
     "output_type": "stream",
     "text": [
      "carregado data/hls4ml_LHCjet_30p_train/train/jetImage_1_30p_30000_40000.h5\n"
     ]
    },
    {
     "name": "stderr",
     "output_type": "stream",
     "text": [
      "14it [00:19,  1.39s/it]"
     ]
    },
    {
     "name": "stdout",
     "output_type": "stream",
     "text": [
      "carregado data/hls4ml_LHCjet_30p_train/train/jetImage_1_30p_40000_50000.h5\n"
     ]
    },
    {
     "name": "stderr",
     "output_type": "stream",
     "text": [
      "15it [00:21,  1.40s/it]"
     ]
    },
    {
     "name": "stdout",
     "output_type": "stream",
     "text": [
      "carregado data/hls4ml_LHCjet_30p_train/train/jetImage_1_30p_50000_60000.h5\n"
     ]
    },
    {
     "name": "stderr",
     "output_type": "stream",
     "text": [
      "16it [00:22,  1.43s/it]"
     ]
    },
    {
     "name": "stdout",
     "output_type": "stream",
     "text": [
      "carregado data/hls4ml_LHCjet_30p_train/train/jetImage_1_30p_60000_70000.h5\n"
     ]
    },
    {
     "name": "stderr",
     "output_type": "stream",
     "text": [
      "17it [00:23,  1.43s/it]"
     ]
    },
    {
     "name": "stdout",
     "output_type": "stream",
     "text": [
      "carregado data/hls4ml_LHCjet_30p_train/train/jetImage_1_30p_70000_80000.h5\n"
     ]
    },
    {
     "name": "stderr",
     "output_type": "stream",
     "text": [
      "18it [00:25,  1.44s/it]"
     ]
    },
    {
     "name": "stdout",
     "output_type": "stream",
     "text": [
      "carregado data/hls4ml_LHCjet_30p_train/train/jetImage_1_30p_80000_90000.h5\n"
     ]
    },
    {
     "name": "stderr",
     "output_type": "stream",
     "text": [
      "19it [00:26,  1.45s/it]"
     ]
    },
    {
     "name": "stdout",
     "output_type": "stream",
     "text": [
      "carregado data/hls4ml_LHCjet_30p_train/train/jetImage_2_30p_0_10000.h5\n"
     ]
    },
    {
     "name": "stderr",
     "output_type": "stream",
     "text": [
      "20it [00:31,  2.53s/it]"
     ]
    },
    {
     "name": "stdout",
     "output_type": "stream",
     "text": [
      "carregado data/hls4ml_LHCjet_30p_train/train/jetImage_2_30p_10000_20000.h5\n"
     ]
    },
    {
     "name": "stderr",
     "output_type": "stream",
     "text": [
      "21it [00:33,  2.19s/it]"
     ]
    },
    {
     "name": "stdout",
     "output_type": "stream",
     "text": [
      "carregado data/hls4ml_LHCjet_30p_train/train/jetImage_2_30p_20000_30000.h5\n"
     ]
    },
    {
     "name": "stderr",
     "output_type": "stream",
     "text": [
      "22it [00:35,  2.03s/it]"
     ]
    },
    {
     "name": "stdout",
     "output_type": "stream",
     "text": [
      "carregado data/hls4ml_LHCjet_30p_train/train/jetImage_2_30p_40000_50000.h5\n"
     ]
    },
    {
     "name": "stderr",
     "output_type": "stream",
     "text": [
      "23it [00:36,  1.85s/it]"
     ]
    },
    {
     "name": "stdout",
     "output_type": "stream",
     "text": [
      "carregado data/hls4ml_LHCjet_30p_train/train/jetImage_2_30p_60000_70000.h5\n"
     ]
    },
    {
     "name": "stderr",
     "output_type": "stream",
     "text": [
      "24it [00:37,  1.72s/it]"
     ]
    },
    {
     "name": "stdout",
     "output_type": "stream",
     "text": [
      "carregado data/hls4ml_LHCjet_30p_train/train/jetImage_2_30p_70000_80000.h5\n"
     ]
    },
    {
     "name": "stderr",
     "output_type": "stream",
     "text": [
      "25it [00:39,  1.60s/it]"
     ]
    },
    {
     "name": "stdout",
     "output_type": "stream",
     "text": [
      "carregado data/hls4ml_LHCjet_30p_train/train/jetImage_2_30p_80000_90000.h5\n"
     ]
    },
    {
     "name": "stderr",
     "output_type": "stream",
     "text": [
      "26it [00:40,  1.54s/it]"
     ]
    },
    {
     "name": "stdout",
     "output_type": "stream",
     "text": [
      "carregado data/hls4ml_LHCjet_30p_train/train/jetImage_3_30p_0_10000.h5\n"
     ]
    },
    {
     "name": "stderr",
     "output_type": "stream",
     "text": [
      "27it [00:42,  1.57s/it]"
     ]
    },
    {
     "name": "stdout",
     "output_type": "stream",
     "text": [
      "carregado data/hls4ml_LHCjet_30p_train/train/jetImage_3_30p_10000_20000.h5\n"
     ]
    },
    {
     "name": "stderr",
     "output_type": "stream",
     "text": [
      "28it [00:43,  1.54s/it]"
     ]
    },
    {
     "name": "stdout",
     "output_type": "stream",
     "text": [
      "carregado data/hls4ml_LHCjet_30p_train/train/jetImage_3_30p_20000_30000.h5\n"
     ]
    },
    {
     "name": "stderr",
     "output_type": "stream",
     "text": [
      "29it [00:45,  1.51s/it]"
     ]
    },
    {
     "name": "stdout",
     "output_type": "stream",
     "text": [
      "carregado data/hls4ml_LHCjet_30p_train/train/jetImage_3_30p_30000_40000.h5\n"
     ]
    },
    {
     "name": "stderr",
     "output_type": "stream",
     "text": [
      "30it [00:46,  1.48s/it]"
     ]
    },
    {
     "name": "stdout",
     "output_type": "stream",
     "text": [
      "carregado data/hls4ml_LHCjet_30p_train/train/jetImage_3_30p_40000_50000.h5\n"
     ]
    },
    {
     "name": "stderr",
     "output_type": "stream",
     "text": [
      "31it [00:47,  1.46s/it]"
     ]
    },
    {
     "name": "stdout",
     "output_type": "stream",
     "text": [
      "carregado data/hls4ml_LHCjet_30p_train/train/jetImage_3_30p_50000_60000.h5\n"
     ]
    },
    {
     "name": "stderr",
     "output_type": "stream",
     "text": [
      "32it [00:49,  1.47s/it]"
     ]
    },
    {
     "name": "stdout",
     "output_type": "stream",
     "text": [
      "carregado data/hls4ml_LHCjet_30p_train/train/jetImage_3_30p_60000_70000.h5\n"
     ]
    },
    {
     "name": "stderr",
     "output_type": "stream",
     "text": [
      "33it [00:51,  1.49s/it]"
     ]
    },
    {
     "name": "stdout",
     "output_type": "stream",
     "text": [
      "carregado data/hls4ml_LHCjet_30p_train/train/jetImage_3_30p_70000_80000.h5\n"
     ]
    },
    {
     "name": "stderr",
     "output_type": "stream",
     "text": [
      "34it [00:52,  1.48s/it]"
     ]
    },
    {
     "name": "stdout",
     "output_type": "stream",
     "text": [
      "carregado data/hls4ml_LHCjet_30p_train/train/jetImage_3_30p_80000_90000.h5\n"
     ]
    },
    {
     "name": "stderr",
     "output_type": "stream",
     "text": [
      "35it [00:54,  1.54s/it]"
     ]
    },
    {
     "name": "stdout",
     "output_type": "stream",
     "text": [
      "carregado data/hls4ml_LHCjet_30p_train/train/jetImage_4_30p_0_10000.h5\n"
     ]
    },
    {
     "name": "stderr",
     "output_type": "stream",
     "text": [
      "36it [00:55,  1.48s/it]"
     ]
    },
    {
     "name": "stdout",
     "output_type": "stream",
     "text": [
      "carregado data/hls4ml_LHCjet_30p_train/train/jetImage_4_30p_10000_20000.h5\n"
     ]
    },
    {
     "name": "stderr",
     "output_type": "stream",
     "text": [
      "37it [00:56,  1.48s/it]"
     ]
    },
    {
     "name": "stdout",
     "output_type": "stream",
     "text": [
      "carregado data/hls4ml_LHCjet_30p_train/train/jetImage_4_30p_20000_30000.h5\n"
     ]
    },
    {
     "name": "stderr",
     "output_type": "stream",
     "text": [
      "38it [00:58,  1.44s/it]"
     ]
    },
    {
     "name": "stdout",
     "output_type": "stream",
     "text": [
      "carregado data/hls4ml_LHCjet_30p_train/train/jetImage_4_30p_30000_40000.h5\n"
     ]
    },
    {
     "name": "stderr",
     "output_type": "stream",
     "text": [
      "39it [00:59,  1.42s/it]"
     ]
    },
    {
     "name": "stdout",
     "output_type": "stream",
     "text": [
      "carregado data/hls4ml_LHCjet_30p_train/train/jetImage_4_30p_40000_50000.h5\n"
     ]
    },
    {
     "name": "stderr",
     "output_type": "stream",
     "text": [
      "40it [01:00,  1.39s/it]"
     ]
    },
    {
     "name": "stdout",
     "output_type": "stream",
     "text": [
      "carregado data/hls4ml_LHCjet_30p_train/train/jetImage_4_30p_50000_60000.h5\n"
     ]
    },
    {
     "name": "stderr",
     "output_type": "stream",
     "text": [
      "40it [01:02,  1.56s/it]\n"
     ]
    },
    {
     "ename": "KeyboardInterrupt",
     "evalue": "",
     "output_type": "error",
     "traceback": [
      "\u001b[0;31m---------------------------------------------------------------------------\u001b[0m",
      "\u001b[0;31mKeyboardInterrupt\u001b[0m                         Traceback (most recent call last)",
      "Cell \u001b[0;32mIn[5], line 1\u001b[0m\n\u001b[0;32m----> 1\u001b[0m \u001b[43mjuntar_dados_imagem_alvo\u001b[49m\u001b[43m(\u001b[49m\u001b[43mpath_test\u001b[49m\u001b[43m,\u001b[49m\u001b[43m \u001b[49m\u001b[38;5;124;43m\"\u001b[39;49m\u001b[38;5;124;43mdata/target_test_raw.csv\u001b[39;49m\u001b[38;5;124;43m\"\u001b[39;49m\u001b[43m,\u001b[49m\u001b[43m \u001b[49m\u001b[38;5;124;43m'\u001b[39;49m\u001b[38;5;124;43mdata/teste.csv\u001b[39;49m\u001b[38;5;124;43m'\u001b[39;49m\u001b[43m,\u001b[49m\u001b[43m \u001b[49m\u001b[43mmaxFiles\u001b[49m\u001b[38;5;241;43m=\u001b[39;49m\u001b[38;5;241;43m1\u001b[39;49m\u001b[43m)\u001b[49m\n",
      "Cell \u001b[0;32mIn[2], line 15\u001b[0m, in \u001b[0;36mjuntar_dados_imagem_alvo\u001b[0;34m(path_imagens, target_csv, caminho_saida, maxFiles)\u001b[0m\n\u001b[1;32m     14\u001b[0m \u001b[38;5;28;01mdef\u001b[39;00m \u001b[38;5;21mjuntar_dados_imagem_alvo\u001b[39m(path_imagens, target_csv, caminho_saida, maxFiles\u001b[38;5;241m=\u001b[39m\u001b[38;5;241m-\u001b[39m\u001b[38;5;241m1\u001b[39m):\n\u001b[0;32m---> 15\u001b[0m     df_image \u001b[38;5;241m=\u001b[39m \u001b[43mloadfiles_np\u001b[49m\u001b[43m(\u001b[49m\u001b[43mpath_imagens\u001b[49m\u001b[43m,\u001b[49m\u001b[43m \u001b[49m\u001b[38;5;241;43m-\u001b[39;49m\u001b[38;5;241;43m1\u001b[39;49m\u001b[43m)\u001b[49m\n\u001b[1;32m     16\u001b[0m     target_train \u001b[38;5;241m=\u001b[39m pd\u001b[38;5;241m.\u001b[39mread_csv(target_csv)\n\u001b[1;32m     18\u001b[0m     dfs_concatenados \u001b[38;5;241m=\u001b[39m []\n",
      "Cell \u001b[0;32mIn[2], line 5\u001b[0m, in \u001b[0;36mloadfiles_np\u001b[0;34m(listOfFiles, maxFiles)\u001b[0m\n\u001b[1;32m      3\u001b[0m \u001b[38;5;28;01mfor\u001b[39;00m _, ifile \u001b[38;5;129;01min\u001b[39;00m tqdm(\u001b[38;5;28menumerate\u001b[39m(listOfFiles[:maxFiles]), total\u001b[38;5;241m=\u001b[39mmaxFiles):\n\u001b[1;32m      4\u001b[0m     \u001b[38;5;28;01mwith\u001b[39;00m h5py\u001b[38;5;241m.\u001b[39mFile(ifile, \u001b[38;5;124m\"\u001b[39m\u001b[38;5;124mr\u001b[39m\u001b[38;5;124m\"\u001b[39m) \u001b[38;5;28;01mas\u001b[39;00m f:\n\u001b[0;32m----> 5\u001b[0m         tmpDf \u001b[38;5;241m=\u001b[39m \u001b[43mnp\u001b[49m\u001b[38;5;241;43m.\u001b[39;49m\u001b[43marray\u001b[49m\u001b[43m(\u001b[49m\u001b[43mf\u001b[49m\u001b[38;5;241;43m.\u001b[39;49m\u001b[43mget\u001b[49m\u001b[43m(\u001b[49m\u001b[38;5;124;43m\"\u001b[39;49m\u001b[38;5;124;43mjetImageHCAL\u001b[39;49m\u001b[38;5;124;43m\"\u001b[39;49m\u001b[43m)\u001b[49m\u001b[43m)\u001b[49m\n\u001b[1;32m      6\u001b[0m         listofDf\u001b[38;5;241m.\u001b[39mappend(tmpDf)\n\u001b[1;32m      7\u001b[0m         \u001b[38;5;28mprint\u001b[39m(\u001b[38;5;124m'\u001b[39m\u001b[38;5;124mcarregado\u001b[39m\u001b[38;5;124m'\u001b[39m, ifile)\n",
      "\u001b[0;31mKeyboardInterrupt\u001b[0m: "
     ]
    }
   ],
   "source": [
    "juntar_dados_imagem_alvo(path_test, \"data/target_test_raw.csv\", 'data/teste.csv', maxFiles=1)"
   ]
  },
  {
   "cell_type": "code",
   "execution_count": null,
   "metadata": {},
   "outputs": [],
   "source": [
    "# Executando\n",
    "path_train, path_test = util.carregar_dados(\"data\")\n",
    "\n",
    "juntar_dados_imagem_alvo(path_test, \"data/target_test_raw.csv\", 'data/teste.csv')\n",
    "\n",
    "path_treino= \"data/hcal_train.npy\"  \n",
    "juntar_dados_imagem_alvo(path_train, \"data/target_train_raw.csv\", 'data/treino.csv')\n",
    "\n",
    "dtypes = {f'{i}': 'float32' for i in range(0, 10000)}\n",
    "dtypes['Unnamed: 0'] = 'int64'\n",
    "dtypes['Classe'] = 'int64'\n",
    "\n",
    "salvar_tensor_csv(\"data/treino.csv\", \"data/treino.pt\", dtypes)\n",
    "salvar_tensor_csv(\"data/teste.csv\", \"data/teste.pt\", dtypes)"
   ]
  }
 ],
 "metadata": {
  "kernelspec": {
   "display_name": "Python 3",
   "language": "python",
   "name": "python3"
  },
  "language_info": {
   "codemirror_mode": {
    "name": "ipython",
    "version": 3
   },
   "file_extension": ".py",
   "mimetype": "text/x-python",
   "name": "python",
   "nbconvert_exporter": "python",
   "pygments_lexer": "ipython3",
   "version": "3.10.12"
  }
 },
 "nbformat": 4,
 "nbformat_minor": 2
}
